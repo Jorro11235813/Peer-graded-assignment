{
 "cells": [
  {
   "cell_type": "markdown",
   "id": "4a0b49e1-1b20-47e5-9716-817f2f880f7d",
   "metadata": {},
   "source": [
    "# My Jupyter Notebook on IBM Watson Studio"
   ]
  },
  {
   "cell_type": "markdown",
   "id": "f1849d85-2f0a-421a-a8b9-6e5ef9efe2be",
   "metadata": {},
   "source": [
    "**Yehor Okuniev**"
   ]
  },
  {
   "cell_type": "markdown",
   "id": "bf9651a4-206a-498a-a599-c035670d7f74",
   "metadata": {},
   "source": [
    "Risk Analist"
   ]
  },
  {
   "cell_type": "markdown",
   "id": "f0b3d5f1-3bda-4b23-aac4-d5dc4fa97f30",
   "metadata": {},
   "source": [
    "*I am interested in data science because it is avery handy tool for analisys, and consequently learning it will make me a better specialist*"
   ]
  },
  {
   "cell_type": "markdown",
   "id": "e39593cd-c97f-4ab1-a732-624ca82f7db4",
   "metadata": {},
   "source": [
    "### Following code has to show sum of first 10 odd numbers"
   ]
  },
  {
   "cell_type": "code",
   "execution_count": 9,
   "id": "632c1daf-b7bc-4bc7-9063-8fe75b07a4a6",
   "metadata": {},
   "outputs": [
    {
     "data": {
      "text/plain": [
       "100"
      ]
     },
     "execution_count": 9,
     "metadata": {},
     "output_type": "execute_result"
    }
   ],
   "source": [
    "1+3+5+7+9+11+13+15+17+19"
   ]
  },
  {
   "cell_type": "markdown",
   "id": "dcf8eca1-70e5-4855-b80d-f6f48fee873d",
   "metadata": {},
   "source": [
    "1)[youtube hyperlink](https://www.youtube.com)\n",
    "1. One\n",
    "2. Two\n",
    "3. Three\n",
    "- Every non-constant\n",
    "    - polynomial has at least one root\n",
    "    - in general case - the complex one\n"
   ]
  },
  {
   "cell_type": "code",
   "execution_count": null,
   "id": "3e17a921-2636-46f2-a03b-810b5d80e495",
   "metadata": {},
   "outputs": [],
   "source": []
  }
 ],
 "metadata": {
  "kernelspec": {
   "display_name": "Python",
   "language": "python",
   "name": "conda-env-python-py"
  },
  "language_info": {
   "codemirror_mode": {
    "name": "ipython",
    "version": 3
   },
   "file_extension": ".py",
   "mimetype": "text/x-python",
   "name": "python",
   "nbconvert_exporter": "python",
   "pygments_lexer": "ipython3",
   "version": "3.7.12"
  }
 },
 "nbformat": 4,
 "nbformat_minor": 5
}
